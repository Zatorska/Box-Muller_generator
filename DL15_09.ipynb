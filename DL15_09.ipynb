{
 "cells": [
  {
   "cell_type": "code",
   "execution_count": 1,
   "metadata": {},
   "outputs": [
    {
     "name": "stderr",
     "output_type": "stream",
     "text": [
      "Using TensorFlow backend.\n"
     ]
    }
   ],
   "source": [
    "import os\n",
    "import cv2\n",
    "import numpy as np\n",
    "import pandas as pd\n",
    "import keras\n",
    "from keras.preprocessing import image\n",
    "from keras.models import Sequential\n",
    "from keras.layers import Conv2D, MaxPooling2D, Flatten, Dense, BatchNormalization, Activation\n",
    "from keras import regularizers\n",
    "from keras.callbacks import ModelCheckpoint, EarlyStopping, TensorBoard\n",
    "from keras.metrics import categorical_accuracy"
   ]
  },
  {
   "cell_type": "code",
   "execution_count": 2,
   "metadata": {},
   "outputs": [],
   "source": [
    "VAL_LABELS_FILE = \"/home/katarzyna/Desktop/DEEP_LEARNING/datasets/faces/faces_is/val/labels.txt\"\n",
    "TRAIN_LABELS_FILE = \"/home/katarzyna/Desktop/DEEP_LEARNING/datasets/faces/faces_is/train/labels.txt\"\n",
    "TEST_LABELS_FILE = \"/home/katarzyna/Desktop/DEEP_LEARNING/datasets/faces/faces_is/test/labels.txt\""
   ]
  },
  {
   "cell_type": "code",
   "execution_count": 3,
   "metadata": {},
   "outputs": [],
   "source": [
    "def get_generator(filename, number=None):\n",
    "    # załadowanie pliku txt do ramki pandas\n",
    "    df = pd.read_csv(filename, delimiter=' ', names=[\"path\", \"value\"], dtype=\"str\", engine='python')\n",
    "    if number:\n",
    "        df = df[:number]\n",
    "    # stworzenie generatora\n",
    "    gen = image.ImageDataGenerator()\n",
    "    # folder z danymi, do którego będą doklejane ścieżki z odpowiedniej kolumny\n",
    "    directory = os.path.dirname(filename)\n",
    "    # stworzenie iteratora po danych z zadanymi opcjami\n",
    "    return gen.flow_from_dataframe(df, directory, \"path\", \"value\", target_size=(128, 128), batch_size=10)"
   ]
  },
  {
   "cell_type": "code",
   "execution_count": 4,
   "metadata": {},
   "outputs": [],
   "source": [
    "def show_dataset(flow):\n",
    "    for img, l in flow:\n",
    "        # wypisz etykietę\n",
    "        print(l[0])\n",
    "        # konwersja obrazu do wyświetlenia\n",
    "        img = img[0].astype(np.uint8)\n",
    "        img = cv2.cvtColor(img, cv2.COLOR_RGB2BGR)\n",
    "        # wyświetl obraz\n",
    "        cv2.imshow(\"image\", img)\n",
    "        # poczekaj na klawisz\n",
    "        cv2.waitKey()"
   ]
  },
  {
   "cell_type": "code",
   "execution_count": 5,
   "metadata": {},
   "outputs": [],
   "source": [
    "def create_model(gen):\n",
    "    model = Sequential()\n",
    "    model.add(Conv2D(16, (3, 3),input_shape=(128, 128, 3)))\n",
    "    model.add(BatchNormalization())\n",
    "    model.add(Activation('relu'))\n",
    "    model.add(Conv2D(16, (3, 3)))\n",
    "    model.add(BatchNormalization())\n",
    "    model.add(Activation('relu'))\n",
    "    model.add(MaxPooling2D(pool_size=(2, 2)))\n",
    "    model.add(Conv2D(32, (3, 3)))\n",
    "    model.add(BatchNormalization())\n",
    "    model.add(Activation('relu'))\n",
    "    model.add(Conv2D(32, (3, 3)))\n",
    "    model.add(BatchNormalization())\n",
    "    model.add(Activation('relu'))\n",
    "    model.add(MaxPooling2D(pool_size=(2, 2)))\n",
    "    model.add(Flatten())\n",
    "    model.add(Dense(128, kernel_regularizer=regularizers.l2(0.01)))\n",
    "    model.add(BatchNormalization())\n",
    "    model.add(Activation('relu'))\n",
    "    model.add(Dense(len(gen.class_indices),  activation='softmax'))\n",
    "    model.compile(loss='categorical_crossentropy', optimizer='sgd',\n",
    "                 metrics=['categorical_accuracy'])\n",
    "    return model"
   ]
  },
  {
   "cell_type": "code",
   "execution_count": 6,
   "metadata": {},
   "outputs": [],
   "source": [
    "def test_model(model):\n",
    "    test_gen = get_generator(TEST_LABELS_FILE)\n",
    "    results = model.evaluate_generator(test_gen)\n",
    "    for name, result in zip(model.metrics_names, results):\n",
    "        print(f\"{name}: {result}\")"
   ]
  },
  {
   "cell_type": "code",
   "execution_count": 7,
   "metadata": {},
   "outputs": [],
   "source": [
    "def get_callbacks():\n",
    "    callbacks = []\n",
    "    mc = ModelCheckpoint(\"weights.hdf5\", monitor=\"val_loss\", save_best_only=True, verbose=1)\n",
    "    es = EarlyStopping(patience=2)\n",
    "    tb = TensorBoard()\n",
    "    callbacks.append(mc)\n",
    "    callbacks.append(es)\n",
    "    callbacks.append(tb)\n",
    "    return callbacks"
   ]
  },
  {
   "cell_type": "code",
   "execution_count": 8,
   "metadata": {},
   "outputs": [],
   "source": [
    "def main():\n",
    "    train_gen = get_generator(TRAIN_LABELS_FILE, 200)\n",
    "    val_gen = get_generator(VAL_LABELS_FILE)\n",
    "    callbacks = get_callbacks()\n",
    "    model = create_model(train_gen)\n",
    "    model.load_weights(\"weights.hdf5\")\n",
    "    #model.fit_generator(train_gen, epochs=100, steps_per_epoch=train_gen.n // train_gen.batch_size, \n",
    "    #                    validation_data=val_gen, validation_steps=val_gen.n // val_gen.batch_size,\n",
    "    #                   callbacks=callbacks)\n",
    "    test_model(model)"
   ]
  },
  {
   "cell_type": "code",
   "execution_count": 9,
   "metadata": {},
   "outputs": [
    {
     "name": "stdout",
     "output_type": "stream",
     "text": [
      "Found 200 validated image filenames belonging to 52 classes.\n",
      "Found 520 validated image filenames belonging to 52 classes.\n",
      "WARNING:tensorflow:From /home/katarzyna/.local/lib/python3.6/site-packages/keras/backend/tensorflow_backend.py:66: The name tf.get_default_graph is deprecated. Please use tf.compat.v1.get_default_graph instead.\n",
      "\n",
      "WARNING:tensorflow:From /home/katarzyna/.local/lib/python3.6/site-packages/keras/backend/tensorflow_backend.py:541: The name tf.placeholder is deprecated. Please use tf.compat.v1.placeholder instead.\n",
      "\n",
      "WARNING:tensorflow:From /home/katarzyna/.local/lib/python3.6/site-packages/keras/backend/tensorflow_backend.py:4432: The name tf.random_uniform is deprecated. Please use tf.random.uniform instead.\n",
      "\n",
      "WARNING:tensorflow:From /home/katarzyna/.local/lib/python3.6/site-packages/keras/backend/tensorflow_backend.py:190: The name tf.get_default_session is deprecated. Please use tf.compat.v1.get_default_session instead.\n",
      "\n",
      "WARNING:tensorflow:From /home/katarzyna/.local/lib/python3.6/site-packages/keras/backend/tensorflow_backend.py:197: The name tf.ConfigProto is deprecated. Please use tf.compat.v1.ConfigProto instead.\n",
      "\n",
      "WARNING:tensorflow:From /home/katarzyna/.local/lib/python3.6/site-packages/keras/backend/tensorflow_backend.py:2041: The name tf.nn.fused_batch_norm is deprecated. Please use tf.compat.v1.nn.fused_batch_norm instead.\n",
      "\n",
      "WARNING:tensorflow:From /home/katarzyna/.local/lib/python3.6/site-packages/keras/backend/tensorflow_backend.py:4267: The name tf.nn.max_pool is deprecated. Please use tf.nn.max_pool2d instead.\n",
      "\n",
      "WARNING:tensorflow:From /home/katarzyna/.local/lib/python3.6/site-packages/keras/optimizers.py:793: The name tf.train.Optimizer is deprecated. Please use tf.compat.v1.train.Optimizer instead.\n",
      "\n",
      "Found 572 validated image filenames belonging to 52 classes.\n",
      "loss: 3.141001524625125\n",
      "categorical_accuracy: 0.7989510426988135\n"
     ]
    }
   ],
   "source": [
    "main()"
   ]
  },
  {
   "cell_type": "code",
   "execution_count": null,
   "metadata": {},
   "outputs": [],
   "source": []
  }
 ],
 "metadata": {
  "kernelspec": {
   "display_name": "Python 3",
   "language": "python",
   "name": "python3"
  },
  "language_info": {
   "codemirror_mode": {
    "name": "ipython",
    "version": 3
   },
   "file_extension": ".py",
   "mimetype": "text/x-python",
   "name": "python",
   "nbconvert_exporter": "python",
   "pygments_lexer": "ipython3",
   "version": "3.6.8"
  }
 },
 "nbformat": 4,
 "nbformat_minor": 2
}
