{
 "cells": [
  {
   "cell_type": "code",
   "execution_count": 2,
   "metadata": {},
   "outputs": [],
   "source": [
    "from sklearn.model_selection import cross_val_score\n",
    "from sklearn.preprocessing import StandardScaler\n",
    "import pandas as pd"
   ]
  },
  {
   "cell_type": "markdown",
   "metadata": {},
   "source": [
    "**Wczytaj dane `kc_house_data.csv` i wybierz zmienne objaśniające i celu**"
   ]
  },
  {
   "cell_type": "code",
   "execution_count": 23,
   "metadata": {},
   "outputs": [],
   "source": [
    "df = pd.read_csv(\"kc_house_data.csv\", sep=\",\")"
   ]
  },
  {
   "cell_type": "code",
   "execution_count": 24,
   "metadata": {},
   "outputs": [],
   "source": [
    "y = df.price\n",
    "X = df.drop(['price','id','date'], axis=1)"
   ]
  },
  {
   "cell_type": "code",
   "execution_count": 25,
   "metadata": {},
   "outputs": [],
   "source": [
    "from sklearn.model_selection import train_test_split\n",
    "X_train, X_test, y_train, y_test = train_test_split(X,y,test_size=0.2)"
   ]
  },
  {
   "cell_type": "markdown",
   "metadata": {},
   "source": [
    "### Stwórz regresory GradientBoosting, Drzewa decyzyjnego i regresji liniowej"
   ]
  },
  {
   "cell_type": "code",
   "execution_count": 26,
   "metadata": {},
   "outputs": [],
   "source": [
    "xgb_model = GradientBoostingRegressor()"
   ]
  },
  {
   "cell_type": "code",
   "execution_count": 27,
   "metadata": {},
   "outputs": [],
   "source": [
    "from sklearn.tree import DecisionTreeClassifier\n",
    "dt_model = DecisionTreeClassifier()"
   ]
  },
  {
   "cell_type": "code",
   "execution_count": 28,
   "metadata": {},
   "outputs": [],
   "source": [
    "from sklearn.linear_model import LinearRegression\n",
    "lin_reg = LinearRegression()"
   ]
  },
  {
   "cell_type": "markdown",
   "metadata": {},
   "source": [
    "### Stwórz regresor uśredniający wyniki powyższych modeli\n",
    "* GradientBoosting - 'gb'\n",
    "* DecisionTree - 'dc'\n",
    "* LinearRegression - 'lr'"
   ]
  },
  {
   "cell_type": "code",
   "execution_count": 31,
   "metadata": {},
   "outputs": [],
   "source": [
    "from sklearn.ensemble import GradientBoostingRegressor, VotingRegressor\n",
    "vote_reg = VotingRegressor(estimators=[('gb',xgb_model),('dc',dt_model),('lr',lin_reg)])"
   ]
  },
  {
   "cell_type": "markdown",
   "metadata": {},
   "source": [
    "### Porównaj R-kwadrat wszystkich 4 modeli (3 bazowe + ensemble)"
   ]
  },
  {
   "cell_type": "code",
   "execution_count": 33,
   "metadata": {},
   "outputs": [
    {
     "name": "stderr",
     "output_type": "stream",
     "text": [
      "/home/katarzyna/.local/lib/python3.6/site-packages/sklearn/model_selection/_split.py:657: Warning: The least populated class in y has only 1 members, which is too few. The minimum number of members in any class cannot be less than n_splits=10.\n",
      "  % (min_groups, self.n_splits)), Warning)\n"
     ]
    }
   ],
   "source": [
    "from sklearn.model_selection import cross_val_score\n",
    "cross_val_xgb = cross_val_score(xgb_model, X_train, y_train, cv=10, scoring='r2')\n",
    "cross_val_dt = cross_val_score(dt_model, X_train, y_train, cv=10, scoring='r2')\n",
    "cross_val_lr = cross_val_score(lin_reg, X_train, y_train, cv=10, scoring='r2')\n",
    "cross_val_vr = cross_val_score(vote_reg, X_train, y_train, cv=10, scoring='r2')"
   ]
  },
  {
   "cell_type": "code",
   "execution_count": 35,
   "metadata": {},
   "outputs": [
    {
     "name": "stdout",
     "output_type": "stream",
     "text": [
      "Sredni wynik R^2 GB to 0.8715832575264869\n",
      "Sredni wynik R^2 DT to 0.5709224219799659\n",
      "Sredni wynik R^2 LR to 0.6988225686254241\n",
      "Sredni wynik R^2 VR to 0.8313391781411947\n"
     ]
    }
   ],
   "source": [
    "print('Sredni wynik R^2 GB to {}'.format(cross_val_xgb.mean()))\n",
    "print('Sredni wynik R^2 DT to {}'.format(cross_val_dt.mean()))\n",
    "print('Sredni wynik R^2 LR to {}'.format(cross_val_lr.mean()))\n",
    "print('Sredni wynik R^2 VR to {}'.format(cross_val_vr.mean()))"
   ]
  }
 ],
 "metadata": {
  "kernelspec": {
   "display_name": "Python 3",
   "language": "python",
   "name": "python3"
  },
  "language_info": {
   "codemirror_mode": {
    "name": "ipython",
    "version": 3
   },
   "file_extension": ".py",
   "mimetype": "text/x-python",
   "name": "python",
   "nbconvert_exporter": "python",
   "pygments_lexer": "ipython3",
   "version": "3.6.8"
  }
 },
 "nbformat": 4,
 "nbformat_minor": 2
}
